{
 "cells": [
  {
   "cell_type": "code",
   "execution_count": 19,
   "metadata": {},
   "outputs": [],
   "source": [
    "import re\n",
    "\n",
    "gsections = {}\n",
    "esections = {}\n",
    "\n",
    "def additem(curitem,curdict):\n",
    "    if(curitem in curdict):\n",
    "        curdict[curitem] = curdict[curitem] + 1\n",
    "    else:\n",
    "        curdict[curitem] = 1\n",
    "\n",
    "def getsects(fnum,fname,sectdict):\n",
    "    f = open(fname)\n",
    "    works = str(fnum)\n",
    "    curbook = ''\n",
    "    cursect = ''\n",
    "    prevsectn = 0\n",
    "    cursectn = 0\n",
    "    \n",
    "    for l in f:\n",
    "        m = re.search('section\" n=\"([0-9]+)\"',l)\n",
    "        if(m):\n",
    "            curcit = str(fnum) + ':' + curbook + m[1]\n",
    "            cursectn = int(m[1])\n",
    "            if(cursectn != prevsectn + 1):\n",
    "                print('jump',prevsectn,curcit,fname)\n",
    "            prevsectn = cursectn\n",
    "            additem(curcit,sectdict)\n",
    "    \n",
    "        m = re.search('\"book\" n=\"([0-9]+)\"',l)\n",
    "        if(m):\n",
    "            curbook = m[1] + \".\"\n",
    "            prevsectn = 0\n",
    "    \n",
    "    f.close()\n",
    "\n",
    "def dofile(fnum):\n",
    "    global gsections\n",
    "    global esections\n",
    "    if(fnum>65):\n",
    "        editor = 'macleod'\n",
    "    else:\n",
    "        editor = 'kilburn'\n",
    "        \n",
    "    efname = 'tlg0062.tlg0' + str(fnum) + '.' + editor + '_eng.xml'\n",
    "    getsects(fnum,efname,esections)\n",
    "    gfname = 'tlg0062.tlg0' + str(fnum) + '.' + editor + '_grc.xml'\n",
    "    getsects(fnum,gfname,gsections)\n",
    "    \n",
    "for i in range(53,70):\n",
    "    dofile(i)\n",
    "    "
   ]
  },
  {
   "cell_type": "code",
   "execution_count": 12,
   "metadata": {},
   "outputs": [
    {
     "data": {
      "text/plain": [
       "542"
      ]
     },
     "execution_count": 12,
     "metadata": {},
     "output_type": "execute_result"
    }
   ],
   "source": [
    "len(esections)"
   ]
  },
  {
   "cell_type": "code",
   "execution_count": 20,
   "metadata": {},
   "outputs": [
    {
     "name": "stdout",
     "output_type": "stream",
     "text": [
      "greek 67:6.3\n",
      "greek 67:10.2\n"
     ]
    }
   ],
   "source": [
    "for foo in esections:\n",
    "    if(not foo in gsections):\n",
    "        print('greek',foo)"
   ]
  },
  {
   "cell_type": "code",
   "execution_count": null,
   "metadata": {},
   "outputs": [],
   "source": []
  }
 ],
 "metadata": {
  "kernelspec": {
   "display_name": "Python 3",
   "language": "python",
   "name": "python3"
  },
  "language_info": {
   "codemirror_mode": {
    "name": "ipython",
    "version": 3
   },
   "file_extension": ".py",
   "mimetype": "text/x-python",
   "name": "python",
   "nbconvert_exporter": "python",
   "pygments_lexer": "ipython3",
   "version": "3.8.1"
  }
 },
 "nbformat": 4,
 "nbformat_minor": 4
}
