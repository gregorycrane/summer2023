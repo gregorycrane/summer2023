{
 "cells": [
  {
   "cell_type": "code",
   "execution_count": 122,
   "metadata": {},
   "outputs": [
    {
     "name": "stdout",
     "output_type": "stream",
     "text": [
      "missing ref 404-17\n"
     ]
    }
   ],
   "source": [
    "import re\n",
    "\n",
    "def addentry(curentry,curdict):\n",
    "    if(curentry in curdict):\n",
    "        curdict[curentry] = curdict[curentry] + 1\n",
    "    else:\n",
    "        curdict[curentry] = 1\n",
    "\n",
    "reflist = {}\n",
    "notelist = {}\n",
    "def dofile1(fname):\n",
    "    f = open(fname)\n",
    "    curpage = ''\n",
    "    prevnote = 0\n",
    "    prevref = 0\n",
    "    \n",
    "    for l in f:\n",
    "        m = re.search('<pb n=\"p\\.([^\"]+)\"',l)\n",
    "        \n",
    "        if(m):\n",
    "            curpage= m[1]\n",
    "            \n",
    "        \n",
    "        refs = re.findall('<ref n=\"([^\"]+)\"',l)\n",
    "        for currefs in refs:\n",
    "            if(currefs == 'ZZ'):\n",
    "                curref = prevref + 1\n",
    "            else:\n",
    "                curref = int(currefs)\n",
    "            if(curref == 1):\n",
    "                prevref= 0\n",
    "            if(not curref == prevref + 1):\n",
    "                 print('ref',curpage,curref,prevref,l)\n",
    "            prevref = curref  \n",
    "            addentry(curpage+'-'+str(curref),reflist)\n",
    "        m = re.search('<note n=\"([0-9]+)\"',l)\n",
    "        if(m):\n",
    "            curnote = int(m[1])\n",
    "            if(curnote == 1):\n",
    "                prevnote = 0\n",
    "            if(curnote != prevnote + 1):\n",
    "                print('noteskip',curpage,prevnote,curnote,l)\n",
    "            prevnote = curnote\n",
    "            addentry(curpage+'-'+str(curnote),notelist)\n",
    "        \n",
    "    \n",
    "    f.close()\n",
    "    \n",
    "    \n",
    "dofile1('lucian-sheldon.xml')\n",
    "\n",
    "for note in notelist:\n",
    "    if(not note in reflist):\n",
    "        print('missing ref',note)\n",
    "        \n",
    "\n",
    "for note in reflist:\n",
    "    if(not note in note):\n",
    "        print('missing note',note)"
   ]
  },
  {
   "cell_type": "code",
   "execution_count": 123,
   "metadata": {},
   "outputs": [
    {
     "data": {
      "text/plain": [
       "1087"
      ]
     },
     "execution_count": 123,
     "metadata": {},
     "output_type": "execute_result"
    }
   ],
   "source": [
    "len(notelist)"
   ]
  },
  {
   "cell_type": "code",
   "execution_count": 1,
   "metadata": {},
   "outputs": [
    {
     "name": "stdout",
     "output_type": "stream",
     "text": [
      "DECREE 1\n",
      "EPITAPH 1\n"
     ]
    }
   ],
   "source": [
    "import re\n",
    "\n",
    "speaks = {}\n",
    "\n",
    "def addentry(curentry,curdict):\n",
    "    if(curentry in curdict):\n",
    "        curdict[curentry] = curdict[curentry] + 1\n",
    "    else:\n",
    "        curdict[curentry] = 1\n",
    "\n",
    "def dofile(fname):\n",
    "    f = open(fname)\n",
    "    \n",
    "    for l in f:\n",
    "        m = re.search('<p>([A-Za-z]+)\\.',l)\n",
    "        if(m):\n",
    "            addentry(m[1],speaks)\n",
    "    \n",
    "    f.close()\n",
    "    \n",
    "    \n",
    "dofile('lucian-sheldon.xml')\n",
    "\n",
    "for foo in sorted(speaks,key=speaks.get,reverse=True):\n",
    "    print(foo,speaks[foo])"
   ]
  },
  {
   "cell_type": "code",
   "execution_count": null,
   "metadata": {},
   "outputs": [],
   "source": []
  }
 ],
 "metadata": {
  "kernelspec": {
   "display_name": "Python 3",
   "language": "python",
   "name": "python3"
  },
  "language_info": {
   "codemirror_mode": {
    "name": "ipython",
    "version": 3
   },
   "file_extension": ".py",
   "mimetype": "text/x-python",
   "name": "python",
   "nbconvert_exporter": "python",
   "pygments_lexer": "ipython3",
   "version": "3.8.1"
  }
 },
 "nbformat": 4,
 "nbformat_minor": 4
}
