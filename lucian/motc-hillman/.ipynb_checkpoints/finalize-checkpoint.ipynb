{
 "cells": [
  {
   "cell_type": "code",
   "execution_count": 1,
   "metadata": {},
   "outputs": [
    {
     "ename": "TypeError",
     "evalue": "unsupported operand type(s) for +: 'int' and 'str'",
     "output_type": "error",
     "traceback": [
      "\u001b[0;31m---------------------------------------------------------------------------\u001b[0m",
      "\u001b[0;31mTypeError\u001b[0m                                 Traceback (most recent call last)",
      "\u001b[0;32m<ipython-input-1-e6f850f58dbc>\u001b[0m in \u001b[0;36m<module>\u001b[0;34m\u001b[0m\n\u001b[1;32m     31\u001b[0m \u001b[0;34m\u001b[0m\u001b[0m\n\u001b[1;32m     32\u001b[0m \u001b[0;34m\u001b[0m\u001b[0m\n\u001b[0;32m---> 33\u001b[0;31m \u001b[0mdofile\u001b[0m\u001b[0;34m(\u001b[0m\u001b[0;34m'tlg0062.tlg069.perseus-eng6.xml'\u001b[0m\u001b[0;34m)\u001b[0m\u001b[0;34m\u001b[0m\u001b[0;34m\u001b[0m\u001b[0m\n\u001b[0m\u001b[1;32m     34\u001b[0m \u001b[0;34m\u001b[0m\u001b[0m\n\u001b[1;32m     35\u001b[0m \u001b[0;32mfor\u001b[0m \u001b[0mfoo\u001b[0m \u001b[0;32min\u001b[0m \u001b[0mbooksects\u001b[0m\u001b[0;34m:\u001b[0m\u001b[0;34m\u001b[0m\u001b[0;34m\u001b[0m\u001b[0m\n",
      "\u001b[0;32m<ipython-input-1-e6f850f58dbc>\u001b[0m in \u001b[0;36mdofile\u001b[0;34m(fname)\u001b[0m\n\u001b[1;32m     24\u001b[0m         \u001b[0;32mif\u001b[0m\u001b[0;34m(\u001b[0m\u001b[0mm\u001b[0m\u001b[0;34m)\u001b[0m\u001b[0;34m:\u001b[0m\u001b[0;34m\u001b[0m\u001b[0;34m\u001b[0m\u001b[0m\n\u001b[1;32m     25\u001b[0m             \u001b[0mcursection\u001b[0m \u001b[0;34m=\u001b[0m \u001b[0mm\u001b[0m\u001b[0;34m[\u001b[0m\u001b[0;36m1\u001b[0m\u001b[0;34m]\u001b[0m\u001b[0;34m\u001b[0m\u001b[0;34m\u001b[0m\u001b[0m\n\u001b[0;32m---> 26\u001b[0;31m             \u001b[0mbooksect\u001b[0m \u001b[0;34m=\u001b[0m \u001b[0mcurbook\u001b[0m \u001b[0;34m+\u001b[0m \u001b[0;34m'.'\u001b[0m \u001b[0;34m+\u001b[0m \u001b[0mcursection\u001b[0m\u001b[0;34m\u001b[0m\u001b[0;34m\u001b[0m\u001b[0m\n\u001b[0m\u001b[1;32m     27\u001b[0m             \u001b[0mbooksects\u001b[0m\u001b[0;34m[\u001b[0m\u001b[0mbooksect\u001b[0m\u001b[0;34m]\u001b[0m \u001b[0;34m=\u001b[0m \u001b[0;36m1\u001b[0m\u001b[0;34m\u001b[0m\u001b[0;34m\u001b[0m\u001b[0m\n\u001b[1;32m     28\u001b[0m         \u001b[0mprint\u001b[0m\u001b[0;34m(\u001b[0m\u001b[0ml\u001b[0m\u001b[0;34m,\u001b[0m\u001b[0mend\u001b[0m\u001b[0;34m=\u001b[0m\u001b[0;34m''\u001b[0m\u001b[0;34m,\u001b[0m\u001b[0mfile\u001b[0m\u001b[0;34m=\u001b[0m\u001b[0moutf\u001b[0m\u001b[0;34m)\u001b[0m\u001b[0;34m\u001b[0m\u001b[0;34m\u001b[0m\u001b[0m\n",
      "\u001b[0;31mTypeError\u001b[0m: unsupported operand type(s) for +: 'int' and 'str'"
     ]
    }
   ],
   "source": [
    "import re\n",
    "\n",
    "sawbook = {}\n",
    "booksects = {}\n",
    "\n",
    "for i in range(1,16):\n",
    "    sawbook[i] = 0\n",
    "\n",
    "def dofile(fname):\n",
    "    f = open(fname)\n",
    "    outf = open('/Users/gcrane/github/first1kwork/data/tlg0062/tlg069/tlg0062.tlg069.perseus-eng6.xml','w')\n",
    "    for l in f:\n",
    "        m = re.search('subtype=\"book\" xml:base=\"[^\"]+\" n=\"([0-9]+)\"',l)\n",
    "        if(m):\n",
    "            curbook = int(m[1])\n",
    "            sawbook[curbook] = 1\n",
    "    \n",
    "        m = re.search('subtype=\"section\" n=',l)\n",
    "        if(m):\n",
    "            l = re.sub('(\"section\"\\s+)','\\g<1>xml:base=\"urn:cts:greekLit:tlg0062.tlg069:'+str(curbook)+'\" ',l)\n",
    "            sawbook[curbook] = 1\n",
    "            \n",
    "        m = re.search('subtype=\"section\" xml:base=\"[^\"]+\" n=\"([0-9]+)\"',l)\n",
    "        if(m):\n",
    "            cursection = m[1]\n",
    "            booksect = str(curbook) + '.' + cursection\n",
    "            booksects[booksect] = 1\n",
    "        print(l,end='',file=outf)\n",
    "    \n",
    "    f.close()\n",
    "    \n",
    "    \n",
    "dofile('tlg0062.tlg069.perseus-eng6.xml')\n",
    "\n",
    "for foo in booksects:\n",
    "    print(foo,booksects[foo])\n",
    "    "
   ]
  },
  {
   "cell_type": "code",
   "execution_count": null,
   "metadata": {},
   "outputs": [],
   "source": []
  }
 ],
 "metadata": {
  "kernelspec": {
   "display_name": "Python 3",
   "language": "python",
   "name": "python3"
  },
  "language_info": {
   "codemirror_mode": {
    "name": "ipython",
    "version": 3
   },
   "file_extension": ".py",
   "mimetype": "text/x-python",
   "name": "python",
   "nbconvert_exporter": "python",
   "pygments_lexer": "ipython3",
   "version": "3.8.1"
  }
 },
 "nbformat": 4,
 "nbformat_minor": 4
}
