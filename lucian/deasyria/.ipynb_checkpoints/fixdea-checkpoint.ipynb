{
 "cells": [
  {
   "cell_type": "code",
   "execution_count": 27,
   "metadata": {},
   "outputs": [
    {
     "ename": "NameError",
     "evalue": "name 'innnote' is not defined",
     "output_type": "error",
     "traceback": [
      "\u001b[0;31m---------------------------------------------------------------------------\u001b[0m",
      "\u001b[0;31mNameError\u001b[0m                                 Traceback (most recent call last)",
      "\u001b[0;32m<ipython-input-27-cfc13c7f2bed>\u001b[0m in \u001b[0;36m<module>\u001b[0;34m\u001b[0m\n\u001b[1;32m     53\u001b[0m \u001b[0moutfname\u001b[0m \u001b[0;34m=\u001b[0m \u001b[0;34m'/Users/gcrane/github/first1kwork/data/tlg0062/tlg041/tlg0062.tlg041.perseus-eng3.xml'\u001b[0m\u001b[0;34m\u001b[0m\u001b[0;34m\u001b[0m\u001b[0m\n\u001b[1;32m     54\u001b[0m \u001b[0moutf\u001b[0m \u001b[0;34m=\u001b[0m \u001b[0mopen\u001b[0m\u001b[0;34m(\u001b[0m\u001b[0moutfname\u001b[0m\u001b[0;34m,\u001b[0m\u001b[0;34m'w'\u001b[0m\u001b[0;34m)\u001b[0m\u001b[0;34m\u001b[0m\u001b[0;34m\u001b[0m\u001b[0m\n\u001b[0;32m---> 55\u001b[0;31m \u001b[0mdofile\u001b[0m\u001b[0;34m(\u001b[0m\u001b[0;34m'lucian-dedea.xml'\u001b[0m\u001b[0;34m,\u001b[0m\u001b[0moutf\u001b[0m\u001b[0;34m)\u001b[0m\u001b[0;34m\u001b[0m\u001b[0;34m\u001b[0m\u001b[0m\n\u001b[0m\u001b[1;32m     56\u001b[0m \u001b[0moutf\u001b[0m\u001b[0;34m.\u001b[0m\u001b[0mclose\u001b[0m\u001b[0;34m(\u001b[0m\u001b[0;34m)\u001b[0m\u001b[0;34m\u001b[0m\u001b[0;34m\u001b[0m\u001b[0m\n",
      "\u001b[0;32m<ipython-input-27-cfc13c7f2bed>\u001b[0m in \u001b[0;36mdofile\u001b[0;34m(fname, outf)\u001b[0m\n\u001b[1;32m     45\u001b[0m         \u001b[0;32mif\u001b[0m\u001b[0;34m(\u001b[0m\u001b[0mre\u001b[0m\u001b[0;34m.\u001b[0m\u001b[0msearch\u001b[0m\u001b[0;34m(\u001b[0m\u001b[0;34m'<pb'\u001b[0m\u001b[0;34m,\u001b[0m\u001b[0ml\u001b[0m\u001b[0;34m)\u001b[0m\u001b[0;34m)\u001b[0m\u001b[0;34m:\u001b[0m\u001b[0;34m\u001b[0m\u001b[0;34m\u001b[0m\u001b[0m\n\u001b[1;32m     46\u001b[0m             \u001b[0minnote\u001b[0m \u001b[0;34m=\u001b[0m \u001b[0;36m0\u001b[0m\u001b[0;34m\u001b[0m\u001b[0;34m\u001b[0m\u001b[0m\n\u001b[0;32m---> 47\u001b[0;31m         \u001b[0;32mif\u001b[0m\u001b[0;34m(\u001b[0m\u001b[0minnnote\u001b[0m\u001b[0;34m)\u001b[0m\u001b[0;34m:\u001b[0m\u001b[0;34m\u001b[0m\u001b[0;34m\u001b[0m\u001b[0m\n\u001b[0m\u001b[1;32m     48\u001b[0m             \u001b[0;32mcontinue\u001b[0m\u001b[0;34m\u001b[0m\u001b[0;34m\u001b[0m\u001b[0m\n\u001b[1;32m     49\u001b[0m         \u001b[0mprint\u001b[0m\u001b[0;34m(\u001b[0m\u001b[0ml\u001b[0m\u001b[0;34m,\u001b[0m\u001b[0mend\u001b[0m\u001b[0;34m=\u001b[0m\u001b[0;34m''\u001b[0m\u001b[0;34m,\u001b[0m\u001b[0mfile\u001b[0m\u001b[0;34m=\u001b[0m\u001b[0moutf\u001b[0m\u001b[0;34m)\u001b[0m\u001b[0;34m\u001b[0m\u001b[0;34m\u001b[0m\u001b[0m\n",
      "\u001b[0;31mNameError\u001b[0m: name 'innnote' is not defined"
     ]
    }
   ],
   "source": [
    "import re\n",
    "\n",
    "reflist = {}\n",
    "notelist = {}\n",
    "\n",
    "def addentry(curitem,curdict):\n",
    "    if(curitem in curdict):\n",
    "        curdict[curitem] = curdict[curitem] + 1\n",
    "    else:\n",
    "        curdict[curitem] = 1\n",
    "\n",
    "def dofile(fname,outf):\n",
    "    \n",
    "    f = open(fname)\n",
    "    curnote = ''\n",
    "    for l in f:\n",
    "        l = re.sub('\\s+$','',l)\n",
    "        m = re.search('<ref n=\"([0-9]+)\"',l)\n",
    "        if(m):\n",
    "            addentry(m[1],reflist)\n",
    "            \n",
    "        m = re.search('<note n=\"([0-9]+)\">(.+)',l)\n",
    "        if(m):\n",
    "            curnote = m[1]\n",
    "            notelist[curnote] = re.sub('<note','<note xml:lang=\"eng\"',l)\n",
    "            continue\n",
    "        if(re.search('<pb',l)):\n",
    "            curnote = ''\n",
    "        if(curnote):\n",
    "            notelist[curnote] = notelist[curnote] + ' ' + l\n",
    "            \n",
    "    f.close()\n",
    "    \n",
    "    f = open(fname)\n",
    "    innote = 0\n",
    "    for l in f:\n",
    "        l = re.sub('(subtype=\"section\"\\s+)','\\g<1>xml:base=\"urn:cts:greekLit:tlg0062.tlg041.perseus-eng3\" ',l)\n",
    "        m = re.search('<ref n=\"([0-9]+)\"/>',l)\n",
    "        if(m):\n",
    "            curnote = m[1]\n",
    "            l = re.sub('<ref n=\"([0-9]+)\"/>',notelist[curnote],l)\n",
    "        m = re.search('^<note',l)\n",
    "        if(m):\n",
    "            innote = 1\n",
    "        if(re.search('<pb',l)):\n",
    "            innote = 0\n",
    "        if(innote):\n",
    "            continue\n",
    "        print(l,end='',file=outf)\n",
    "    f.close()\n",
    "\n",
    "\n",
    "outfname = '/Users/gcrane/github/first1kwork/data/tlg0062/tlg041/tlg0062.tlg041.perseus-eng3.xml'\n",
    "outf = open(outfname,'w')\n",
    "dofile('lucian-dedea.xml',outf)\n",
    "outf.close()"
   ]
  },
  {
   "cell_type": "code",
   "execution_count": 16,
   "metadata": {},
   "outputs": [],
   "source": [
    "for foo in reflist:\n",
    "    if(not foo in notelist):\n",
    "        print('issing',foo)"
   ]
  },
  {
   "cell_type": "code",
   "execution_count": 20,
   "metadata": {},
   "outputs": [
    {
     "data": {
      "text/plain": [
       "'<note n=\"72\"><p>See also § 55, where a first act of the pilgrim is to shave his head; and § 6, where it appears that at Byblos the female locks could be sacrificed as an alternative to offering their own persons. At Troezene, according to Pausanias (xxxii.), the custom was to sacrifice the hair before marriage. In Catullus, Ode lxvi., Berenice dedicates her hair to Venus. On the general question, see Robertson- Smith, op. ctt., p. 329.</p> </note>'"
      ]
     },
     "execution_count": 20,
     "metadata": {},
     "output_type": "execute_result"
    }
   ],
   "source": [
    "notelist['72']"
   ]
  },
  {
   "cell_type": "code",
   "execution_count": null,
   "metadata": {},
   "outputs": [],
   "source": []
  }
 ],
 "metadata": {
  "kernelspec": {
   "display_name": "Python 3",
   "language": "python",
   "name": "python3"
  },
  "language_info": {
   "codemirror_mode": {
    "name": "ipython",
    "version": 3
   },
   "file_extension": ".py",
   "mimetype": "text/x-python",
   "name": "python",
   "nbconvert_exporter": "python",
   "pygments_lexer": "ipython3",
   "version": "3.8.1"
  }
 },
 "nbformat": 4,
 "nbformat_minor": 4
}
