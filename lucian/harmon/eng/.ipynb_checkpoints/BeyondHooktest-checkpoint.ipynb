{
 "cells": [
  {
   "cell_type": "code",
   "execution_count": 27,
   "metadata": {},
   "outputs": [
    {
     "name": "stdout",
     "output_type": "stream",
     "text": [
      "tlg0062.tlg007 missing xml:base <div type=\"textpart\" subtype=\"section\" n=\"intro\">\n"
     ]
    }
   ],
   "source": [
    "import re\n",
    "\n",
    "## this notebook does final checks for a variety of features that we want in Perseus/OGL files but for which Hooktest does not check\n",
    "\n",
    "legalresps = [\n",
    "    '<resp>Prepared under the supervision of</resp>',\n",
    "    '<resp>Digital conversion and editing</resp>',\n",
    "    '<resp>Prepared under the supervision of</resp>'\n",
    "]\n",
    "\n",
    "\n",
    "def testfile(curtg,curwork,curedition):\n",
    "    fname = 'data/' + curtg + '/' + curwork + '/' + curtg + '.' + curwork + '.' + curedition + '.xml'\n",
    "    \n",
    "    f = open(fname)\n",
    "    curname = curtg + '.' + curwork\n",
    "    \n",
    "    for l in f:\n",
    "        l = re.sub('\\s+$','',l)\n",
    "        m = re.search('(<note[^>]*>)',l)\n",
    "        if(m):\n",
    "            curnote = m[1]\n",
    "            if(not re.search('xml:lang',curnote) and not re.search('<note[^>]*/>',l)):\n",
    "                print(curtg+'.'+curwork,'note without xml:lang',curnote)\n",
    "                \n",
    "        if(re.search('_grc',curedition) and re.search('(<editor role=\"translator\">|type=\"translation\")',l)):\n",
    "            print(curname,'this is an edition',l)\n",
    "    \n",
    "        if(re.search('_(eng|fra|deu)',curedition) and re.search('(<editor>|type=\"edition\")',l)):\n",
    "            print(curname,'this is a translation',l)\n",
    "            \n",
    "        m = re.search('\\s*(<resp>.</resp>)',l)\n",
    "        if(m and not m[1] in legalresps):\n",
    "            print('<resp>',l)\n",
    "            \n",
    "        #make sure we have an n attribute in   <cRefPattern/>\n",
    "        m = re.search('(<cRefPattern[^>]*>)',l)\n",
    "        if(m):\n",
    "            curpat = m[1]\n",
    "            if(not re.search(' n=',curpat)):\n",
    "                print(curname,'cRefPattern needs an n attribute')\n",
    "\n",
    "            \n",
    "        m = re.search('(<div[^>]+>)',l)\n",
    "        if(m):\n",
    "            curdiv = m[1]\n",
    "            if(re.search('type=\"textpart\"',curdiv) and not re.search('xml:base',curdiv)):\n",
    "                print(curname,'missing xml:base',curdiv)\n",
    "                \n",
    "        m = re.search('(<ref n=\"[^\"]+\"/>)',l)\n",
    "        if(m):\n",
    "            print(curname,m[1],'merge notes!')\n",
    "    \n",
    "    f.close()\n",
    "    \n",
    "    \n",
    "curgroup = 'tlg0062'\n",
    "curedition = 'perseus-eng2'\n",
    "\n",
    "for i in range(1,52):\n",
    "    if(i<10):\n",
    "        curwork = 'tlg00' + str(i)\n",
    "    elif(i<100):\n",
    "        curwork = 'tlg0' + str(i)\n",
    "    else:\n",
    "        curwork = 'tlg' + str(i)\n",
    "    testfile(curgroup,curwork,curedition)\n",
    "    "
   ]
  },
  {
   "cell_type": "code",
   "execution_count": null,
   "metadata": {},
   "outputs": [],
   "source": []
  }
 ],
 "metadata": {
  "kernelspec": {
   "display_name": "Python 3",
   "language": "python",
   "name": "python3"
  },
  "language_info": {
   "codemirror_mode": {
    "name": "ipython",
    "version": 3
   },
   "file_extension": ".py",
   "mimetype": "text/x-python",
   "name": "python",
   "nbconvert_exporter": "python",
   "pygments_lexer": "ipython3",
   "version": "3.8.1"
  }
 },
 "nbformat": 4,
 "nbformat_minor": 4
}
