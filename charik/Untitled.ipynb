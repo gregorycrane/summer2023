{
 "cells": [
  {
   "cell_type": "code",
   "execution_count": 4,
   "metadata": {},
   "outputs": [],
   "source": [
    "import re\n",
    "\n",
    "\n",
    "def notrans(fname):\n",
    "    inquote = 0\n",
    "    curquote = ''\n",
    "    \n",
    "    \n",
    "    f = open(fname)\n",
    "    curtokens = 0\n",
    "    for l in f:\n",
    "        l = re.sub('\\s+$','',l)\n",
    "        l = re.sub('^\\s+','',l)\n",
    "        l = re.sub('<bibl[^>]*>[^<]+</bibl>','',l)\n",
    "        l = re.sub('.+<quote\\s+xml:lang=\"(grc|lat)\">',' ',l)\n",
    "        m = re.search('<quote\\s+xml:lang=\"(grc|lat)\">(.+)',l)\n",
    "        if(m):\n",
    "            inquote = 1\n",
    "            l = re.sub('<[^>]+>',' ',l)\n",
    "            curquote = re.sub('<[^>]+>',' ',m[2])\n",
    "            curquote = re.sub('^\\s+','',curquote)\n",
    "            curquote = re.sub('\\s+$','',curquote)\n",
    "            #print(curquote)\n",
    "            \n",
    "            \n",
    "        \n",
    "        elif(inquote ):\n",
    "            if(re.search('</quote>',l)):\n",
    "                l = re.sub('</quote>.*','',l)\n",
    "                inquote = 0\n",
    "            l = re.sub('<[^>]+>',' ',l)\n",
    "            l = re.sub('\\s+$','',l)\n",
    "            l = re.sub('^\\s+','',l)\n",
    "            #print('add',l)\n",
    "            curquote = curquote + ' ' + l\n",
    "        if(re.search('<quote xml:lang=\"eng\"',l)):\n",
    "            inquote = 0\n",
    "            curquote = ''\n",
    "            \n",
    "        if(re.search('</cit>',l)):\n",
    "            inquote = 0\n",
    "            if(curquote):\n",
    "                curtokens = curtokens + len(curquote.split())\n",
    "                print('\\n\\n'+curquote)\n",
    "                if(curtokens > 1000 ):\n",
    "                    print(curtokens,len(curquote.split()))\n",
    "                curquote = ''\n",
    "        \n",
    "      \n",
    "    f.close()\n",
    "notrans('becker-notes.xml')\n",
    "        "
   ]
  },
  {
   "cell_type": "code",
   "execution_count": null,
   "metadata": {},
   "outputs": [],
   "source": []
  }
 ],
 "metadata": {
  "kernelspec": {
   "display_name": "Python 3",
   "language": "python",
   "name": "python3"
  },
  "language_info": {
   "codemirror_mode": {
    "name": "ipython",
    "version": 3
   },
   "file_extension": ".py",
   "mimetype": "text/x-python",
   "name": "python",
   "nbconvert_exporter": "python",
   "pygments_lexer": "ipython3",
   "version": "3.8.1"
  }
 },
 "nbformat": 4,
 "nbformat_minor": 4
}
