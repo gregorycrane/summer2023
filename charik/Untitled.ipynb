{
 "cells": [
  {
   "cell_type": "code",
   "execution_count": 1,
   "metadata": {},
   "outputs": [
    {
     "name": "stdout",
     "output_type": "stream",
     "text": [
      "\n",
      "\n",
      "ὁρᾶν ἦν τὸν δῆμον ψηφισάμενον τοὺς μὲν δούλους ἐλευθέρους, τοὺς δὲ ξένους Ἀθηναίους, τοὺς δʼ ἀτίμους ἐπιτίμους· ὃς πρότερον ἐπὶ τῷ αὐτόχθων εἶναι καὶ ἐλεύθερος ἐσεμνύνετο It was possible to see the common people [the dêmos] vote to make slaves free, foreigners Athenians, and the disenfranchised enfranchised. [the common people] who previously prided himself on being born from the soil and free.\n"
     ]
    }
   ],
   "source": [
    "import re\n",
    "\n",
    "\n",
    "def notrans(fname):\n",
    "    inquote = 0\n",
    "    curquote = ''\n",
    "    \n",
    "    \n",
    "    f = open(fname)\n",
    "    curtokens = 0\n",
    "    for l in f:\n",
    "        l = re.sub('\\s+$','',l)\n",
    "        l = re.sub('^\\s+','',l)\n",
    "        l = re.sub('<bibl[^>]*>[^<]+</bibl>','',l)\n",
    "        l = re.sub('.+<quote\\s+xml:lang=\"(grc|lat)\">',' ',l)\n",
    "        m = re.search('<quote\\s+xml:lang=\"(grc|lat)\">(.+)',l)\n",
    "        if(m):\n",
    "            inquote = 1\n",
    "            l = re.sub('<[^>]+>',' ',l)\n",
    "            curquote = re.sub('<[^>]+>',' ',m[2])\n",
    "            curquote = re.sub('^\\s+','',curquote)\n",
    "            curquote = re.sub('\\s+$','',curquote)\n",
    "            #print(curquote)\n",
    "            \n",
    "            \n",
    "        \n",
    "        elif(inquote ):\n",
    "            if(re.search('</quote>',l)):\n",
    "                l = re.sub('</quote>.*','',l)\n",
    "                inquote = 0\n",
    "            l = re.sub('<[^>]+>',' ',l)\n",
    "            l = re.sub('\\s+$','',l)\n",
    "            l = re.sub('^\\s+','',l)\n",
    "            #print('add',l)\n",
    "            curquote = curquote + ' ' + l\n",
    "        if(re.search('<quote xml:lang=\"eng\"',l)):\n",
    "            inquote = 0\n",
    "            curquote = ''\n",
    "            \n",
    "        if(re.search('</cit>',l)):\n",
    "            inquote = 0\n",
    "            if(curquote):\n",
    "                curtokens = curtokens + len(curquote.split())\n",
    "                print('\\n\\n'+curquote)\n",
    "                if(curtokens > 1000 ):\n",
    "                    print(curtokens,len(curquote.split()))\n",
    "                curquote = ''\n",
    "        \n",
    "      \n",
    "    f.close()\n",
    "notrans('becker-notes.xml')\n",
    "        "
   ]
  },
  {
   "cell_type": "code",
   "execution_count": 10,
   "metadata": {},
   "outputs": [
    {
     "name": "stdout",
     "output_type": "stream",
     "text": [
      "becker-text.xml 47537 2\n",
      "becker-notes-out.xml 76735 1830\n",
      "becker-appendices-out.xml 111949 2998\n"
     ]
    }
   ],
   "source": [
    "import re\n",
    "\n",
    "def countbecker(fname):\n",
    "    inbody = 0\n",
    "\n",
    "    f = open(fname)\n",
    "    totwords = 0\n",
    "    gkquotes = 0\n",
    "    for l in f:\n",
    "        if(re.search('<body',l)):\n",
    "            inbody = 1\n",
    "        if(not inbody):\n",
    "            continue\n",
    "        l,curg = re.subn('(xml:lang=\"grc\")','\\g<1>',l)\n",
    "        l = re.sub('<[^>]+>',' ',l)\n",
    "        totwords = len(l.split()) + totwords\n",
    "        \n",
    "\n",
    "        gkquotes = gkquotes + curg\n",
    "        \n",
    "        \n",
    "\n",
    "    print(fname,totwords,gkquotes)\n",
    "    f.close()\n",
    "\n",
    "countbecker('becker-text.xml')\n",
    "countbecker('becker-notes-out.xml')\n",
    "countbecker('becker-appendices-out.xml')\n",
    "\n"
   ]
  },
  {
   "cell_type": "code",
   "execution_count": null,
   "metadata": {},
   "outputs": [],
   "source": []
  }
 ],
 "metadata": {
  "kernelspec": {
   "display_name": "Python 3",
   "language": "python",
   "name": "python3"
  },
  "language_info": {
   "codemirror_mode": {
    "name": "ipython",
    "version": 3
   },
   "file_extension": ".py",
   "mimetype": "text/x-python",
   "name": "python",
   "nbconvert_exporter": "python",
   "pygments_lexer": "ipython3",
   "version": "3.8.1"
  }
 },
 "nbformat": 4,
 "nbformat_minor": 4
}
